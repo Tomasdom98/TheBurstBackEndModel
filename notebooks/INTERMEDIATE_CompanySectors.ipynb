{
 "cells": [
  {
   "cell_type": "code",
   "execution_count": null,
   "id": "81f83d2a",
   "metadata": {},
   "outputs": [],
   "source": [
    "import csv\n",
    "import requests\n",
    "import pandas as pd\n",
    "import numpy as np\n",
    "import xlrd"
   ]
  },
  {
   "cell_type": "code",
   "execution_count": null,
   "id": "93802260",
   "metadata": {},
   "outputs": [],
   "source": [
    "df = pd.read_excel('raw_data/demo_ent_sect.xlsx', header = 4)"
   ]
  },
  {
   "cell_type": "markdown",
   "id": "f4d17b16",
   "metadata": {},
   "source": [
    "copy = df.copy()\n",
    "\n",
    "for x in range(len(copy['dateFin'])): \n",
    "    if copy['dateFin'].iloc[x] == 'NaN': \n",
    "        copy['dateFin'].iloc[x] = 1\n",
    "    else : \n",
    "        copy['dateFin'].iloc[x] = 0\n",
    "\n",
    "copy"
   ]
  },
  {
   "cell_type": "code",
   "execution_count": null,
   "id": "9f243fc0",
   "metadata": {},
   "outputs": [],
   "source": []
  },
  {
   "cell_type": "code",
   "execution_count": null,
   "id": "225456bc",
   "metadata": {},
   "outputs": [],
   "source": [
    "sample = df.head(50)\n",
    "\n",
    "#x = [0,1,2,3,4,5]\n",
    "#x = list(df['codgeo'])\n",
    "final = pd.DataFrame()\n",
    "final['codgeo']=codgeo\n",
    "final['s1']=0\n",
    "final['s2']=0\n",
    "final['s3']=0\n",
    "final['s4']=0\n",
    "final['s5']=0\n",
    "final"
   ]
  },
  {
   "cell_type": "code",
   "execution_count": null,
   "id": "bad09ab9",
   "metadata": {},
   "outputs": [],
   "source": [
    "array = sample['codgeo'].unique()\n",
    "codgeo = array.tolist()\n",
    "codgeo"
   ]
  },
  {
   "cell_type": "code",
   "execution_count": null,
   "id": "8fbb1c47",
   "metadata": {},
   "outputs": [],
   "source": [
    "allsectors = [0,0,0,0,0]\n",
    "for x in codgeo: \n",
    "    example = df[df['codgeo']=='x'].sort_values(by='ent_tot', ascending = False).reset_index().drop(columns = 'index')\n",
    "    #sectors = example.iloc[1:6]['service']\n",
    "    #sectors.tolist()\n",
    "    print(example)"
   ]
  }
 ],
 "metadata": {
  "kernelspec": {
   "display_name": "Python 3 (ipykernel)",
   "language": "python",
   "name": "python3"
  },
  "language_info": {
   "codemirror_mode": {
    "name": "ipython",
    "version": 3
   },
   "file_extension": ".py",
   "mimetype": "text/x-python",
   "name": "python",
   "nbconvert_exporter": "python",
   "pygments_lexer": "ipython3",
   "version": "3.8.12"
  },
  "toc": {
   "base_numbering": 1,
   "nav_menu": {},
   "number_sections": true,
   "sideBar": true,
   "skip_h1_title": false,
   "title_cell": "Table of Contents",
   "title_sidebar": "Contents",
   "toc_cell": false,
   "toc_position": {},
   "toc_section_display": true,
   "toc_window_display": false
  }
 },
 "nbformat": 4,
 "nbformat_minor": 5
}
