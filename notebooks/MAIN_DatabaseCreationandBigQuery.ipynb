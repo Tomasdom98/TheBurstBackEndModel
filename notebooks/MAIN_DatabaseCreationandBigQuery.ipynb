{
 "cells": [
  {
   "cell_type": "markdown",
   "id": "1c8b9a4e",
   "metadata": {},
   "source": [
    "# THE BURST\n",
    "\n",
    "##  Database Creation and Upload\n"
   ]
  },
  {
   "cell_type": "markdown",
   "id": "4b206b5c",
   "metadata": {},
   "source": [
    "### Base dataset with cities and coordinates"
   ]
  },
  {
   "cell_type": "code",
   "execution_count": null,
   "id": "53534219",
   "metadata": {},
   "outputs": [],
   "source": [
    "import requests\n",
    "import pandas as pd\n",
    "import xlrd"
   ]
  },
  {
   "cell_type": "code",
   "execution_count": null,
   "id": "bca3feaa",
   "metadata": {},
   "outputs": [],
   "source": [
    "df_cities=pd.read_csv('../raw_data/cities.csv')"
   ]
  },
  {
   "cell_type": "code",
   "execution_count": null,
   "id": "1711cc46",
   "metadata": {},
   "outputs": [],
   "source": [
    "df_cities=df_cities[['code_commune_INSEE','code_postal','latitude','longitude','nom_commune_complet','code_departement','nom_departement','code_region','nom_region']]"
   ]
  },
  {
   "cell_type": "code",
   "execution_count": null,
   "id": "38a1256e",
   "metadata": {},
   "outputs": [],
   "source": [
    "df_cities['coordinates'] = tuple(zip(df_cities.latitude,df_cities.longitude))"
   ]
  },
  {
   "cell_type": "code",
   "execution_count": null,
   "id": "35d703bf",
   "metadata": {},
   "outputs": [],
   "source": [
    "df_cities=df_cities.drop_duplicates(subset=['code_commune_INSEE'])"
   ]
  },
  {
   "cell_type": "code",
   "execution_count": null,
   "id": "5c005642",
   "metadata": {},
   "outputs": [],
   "source": [
    "df_cities"
   ]
  },
  {
   "cell_type": "markdown",
   "id": "070bfbd4",
   "metadata": {},
   "source": [
    "### Load and transform airports and train stations databases"
   ]
  },
  {
   "cell_type": "code",
   "execution_count": null,
   "id": "498ccdda",
   "metadata": {},
   "outputs": [],
   "source": [
    "df_airports=pd.read_excel('../raw_data/airports.xls', skiprows=[0,1])\n",
    "w_header = df_airports.iloc[0] #grab the first row for the header #take the data less the header row\n",
    "df_airports.columns = w_header #set the header row as the df header\n",
    "df_airports = df_airports.drop(labels=0, axis=0)"
   ]
  },
  {
   "cell_type": "code",
   "execution_count": null,
   "id": "a54e5a73",
   "metadata": {},
   "outputs": [],
   "source": [
    "#We keep only the biggest airports\n",
    "df_bigairports=df_airports[df_airports['Code IATA'].isin(['CDG','ORY','LYS','MRS','TLS','BSL','MLH','EAP','BOD','NTE','BVA','PTP','RUN','LIL','FDF','MPL','AJA','BIA','PPT','SXB','BES','BIQ','RNS','FSC','PUF','NOU','CAY','TLN','LDE','GEA','PGF','CFE'])]\n",
    "df_bigairports.reset_index(inplace=True)"
   ]
  },
  {
   "cell_type": "code",
   "execution_count": null,
   "id": "3b90c2c7",
   "metadata": {},
   "outputs": [],
   "source": [
    "df_bigairports.columns.values[4] = 'Latitude'\n",
    "df_bigairports.columns.values[5] = 'Longitude'"
   ]
  },
  {
   "cell_type": "code",
   "execution_count": null,
   "id": "0d36c64a",
   "metadata": {},
   "outputs": [],
   "source": [
    "#We need to convert coordinates format\n",
    "import re\n",
    "def coord_converter(coordinates):\n",
    "    list_=['Nord','Sud','Est','Ouest']\n",
    "    if any(word in coordinates for word in list_):\n",
    "        deg, minutes, seconds =  re.split('[°\\']', coordinates)\n",
    "        seconds,direction=seconds.split()\n",
    "        return (float(deg) + float(minutes)/60 + float(seconds)/(60*60)) * (-1 if direction in ['Sud','Ouest'] else 1)\n",
    "    else:\n",
    "        deg, minutes, seconds =  re.split('[°\\'\"]', coordinates)\n",
    "        return (float(deg) + float(minutes)/60 + float(seconds)/(60*60))"
   ]
  },
  {
   "cell_type": "code",
   "execution_count": null,
   "id": "3a421628",
   "metadata": {},
   "outputs": [],
   "source": [
    "df_bigairports.iloc[:,4] = df_bigairports.iloc[:,4].apply(lambda x: coord_converter(x))\n",
    "df_bigairports.iloc[:,5] = df_bigairports.iloc[:,5].apply(lambda x: coord_converter(x))"
   ]
  },
  {
   "cell_type": "code",
   "execution_count": null,
   "id": "272f5660",
   "metadata": {},
   "outputs": [],
   "source": [
    "df_bigairports['coordinates'] = tuple(zip(df_bigairports.iloc[:,4],df_bigairports.iloc[:,5]))"
   ]
  },
  {
   "cell_type": "code",
   "execution_count": null,
   "id": "8d71d6f6",
   "metadata": {},
   "outputs": [],
   "source": [
    "df_bigairports"
   ]
  },
  {
   "cell_type": "code",
   "execution_count": null,
   "id": "50f87e9b",
   "metadata": {},
   "outputs": [],
   "source": [
    "df_train=pd.read_excel('../raw_data/train.xls')"
   ]
  },
  {
   "cell_type": "code",
   "execution_count": null,
   "id": "2cf9137e",
   "metadata": {},
   "outputs": [],
   "source": [
    "df_train['coordinates'] = df_train['WGS 84'].apply(lambda x: tuple(map(str, x.split(', '))))"
   ]
  },
  {
   "cell_type": "code",
   "execution_count": null,
   "id": "03bd8b67",
   "metadata": {},
   "outputs": [],
   "source": [
    "lattrain=[]\n",
    "lontrain=[]\n",
    "for x in df_train.coordinates:\n",
    "    lattrain.append(float(x[0]))\n",
    "    lontrain.append(float(x[1]))\n",
    "df_train['Latitude']=lattrain\n",
    "df_train['Longitude']=lontrain"
   ]
  },
  {
   "cell_type": "code",
   "execution_count": null,
   "id": "a20480da",
   "metadata": {},
   "outputs": [],
   "source": [
    "df_train['coordinates'] = tuple(zip(df_train['Latitude'],df_train['Longitude']))"
   ]
  },
  {
   "cell_type": "code",
   "execution_count": null,
   "id": "c3131181",
   "metadata": {},
   "outputs": [],
   "source": [
    "df_train"
   ]
  },
  {
   "cell_type": "markdown",
   "id": "df34fc6b",
   "metadata": {},
   "source": [
    "### Compute Distance for each city between each airport and train station"
   ]
  },
  {
   "cell_type": "code",
   "execution_count": null,
   "id": "3d91f5f7",
   "metadata": {},
   "outputs": [],
   "source": [
    "# Our distance function\n",
    "from math import radians, cos, sin, asin, sqrt\n",
    "\n",
    "def haversine(point1, point2):\n",
    "    \"\"\"\n",
    "    Calculate the great circle distance in kilometers between two points \n",
    "    on the earth (specified in decimal degrees)\n",
    "    \"\"\"\n",
    "    # convert decimal degrees to radians \n",
    "    lat1, lon1=point1\n",
    "    lat2, lon2=point2\n",
    "    lon1, lat1, lon2, lat2 = map(radians, [lon1, lat1, lon2, lat2])\n",
    "\n",
    "    # haversine formula \n",
    "    dlon = lon2 - lon1 \n",
    "    dlat = lat2 - lat1 \n",
    "    a = sin(dlat/2)**2 + cos(lat1) * cos(lat2) * sin(dlon/2)**2\n",
    "    c = 2 * asin(sqrt(a)) \n",
    "    r = 6371 # Radius of earth in kilometers. Use 3956 for miles. Determines return value units.\n",
    "    return c * r"
   ]
  },
  {
   "cell_type": "code",
   "execution_count": null,
   "id": "2bf50071",
   "metadata": {},
   "outputs": [],
   "source": [
    "disonecity=[]\n",
    "cityname=[]\n",
    "aptname=[]\n",
    "for coords,airport in zip(df_bigairports.coordinates, df_bigairports['Nom aéroport']):\n",
    "    for coords2,city in zip(df_cities['coordinates'], df_cities.code_commune_INSEE):\n",
    "        disonecity.append(haversine(coords,coords2))\n",
    "        cityname.append(city)\n",
    "        aptname.append(airport)"
   ]
  },
  {
   "cell_type": "code",
   "execution_count": null,
   "id": "8e9485c2",
   "metadata": {},
   "outputs": [],
   "source": [
    "d={'City':cityname,'Airport':aptname,'Distance':disonecity}\n",
    "df_cityairport=pd.DataFrame(d)\n",
    "df_cityairport.dropna(subset=['Distance'],inplace=True)"
   ]
  },
  {
   "cell_type": "code",
   "execution_count": null,
   "id": "572eccc6",
   "metadata": {},
   "outputs": [],
   "source": [
    "df_distance=df_cityairport[['City','Airport','Distance']].groupby(['City'])['Distance'].min().to_frame()"
   ]
  },
  {
   "cell_type": "code",
   "execution_count": null,
   "id": "2adbbaad",
   "metadata": {},
   "outputs": [],
   "source": [
    "df_distance=df_distance.merge(df_cityairport,on='Distance',how='left')"
   ]
  },
  {
   "cell_type": "code",
   "execution_count": null,
   "id": "b94a6caf",
   "metadata": {},
   "outputs": [],
   "source": [
    "df_distance.rename(columns={'City':'code_commune_INSEE'},inplace=True)"
   ]
  },
  {
   "cell_type": "code",
   "execution_count": null,
   "id": "fbc70976",
   "metadata": {},
   "outputs": [],
   "source": [
    "df_distance"
   ]
  },
  {
   "cell_type": "code",
   "execution_count": null,
   "id": "a2b80c4e",
   "metadata": {},
   "outputs": [],
   "source": [
    "disonecity2=[]\n",
    "cityname2=[]\n",
    "aptname2=[]\n",
    "for coords,train in zip(df_train.coordinates, df_train['UT']):\n",
    "    for coords2,city in zip(df_cities['coordinates'], df_cities.code_commune_INSEE):\n",
    "        disonecity2.append(haversine(coords,coords2))\n",
    "        cityname2.append(city)\n",
    "        aptname2.append(train)"
   ]
  },
  {
   "cell_type": "code",
   "execution_count": null,
   "id": "92324bfa",
   "metadata": {},
   "outputs": [],
   "source": [
    "d2={'City':cityname2,'Train':aptname2,'Distance':disonecity2}\n",
    "df_citytrain=pd.DataFrame(d2)\n",
    "df_citytrain.dropna(subset=['Distance'],inplace=True)"
   ]
  },
  {
   "cell_type": "code",
   "execution_count": null,
   "id": "7792d773",
   "metadata": {},
   "outputs": [],
   "source": [
    "df_distance2=df_citytrain[['City','Train','Distance']].groupby(['City'])['Distance'].min().to_frame()"
   ]
  },
  {
   "cell_type": "code",
   "execution_count": null,
   "id": "6a0c6e6a",
   "metadata": {},
   "outputs": [],
   "source": [
    "df_distance2=df_distance2.merge(df_citytrain,on='Distance',how='left')"
   ]
  },
  {
   "cell_type": "code",
   "execution_count": null,
   "id": "781ac6d3",
   "metadata": {},
   "outputs": [],
   "source": [
    "df_distance2.rename(columns={'City':'code_commune_INSEE'},inplace=True)"
   ]
  },
  {
   "cell_type": "code",
   "execution_count": null,
   "id": "de6954f5",
   "metadata": {},
   "outputs": [],
   "source": [
    "df_distance2=df_distance2.drop_duplicates()\n",
    "df_distance2"
   ]
  },
  {
   "cell_type": "markdown",
   "id": "04e9fdd3",
   "metadata": {},
   "source": [
    "### Merge to main databse"
   ]
  },
  {
   "cell_type": "code",
   "execution_count": null,
   "id": "7cec693e",
   "metadata": {},
   "outputs": [],
   "source": [
    "df_cities.dropna(subset=['nom_departement'],inplace=True)\n",
    "df_cities.reset_index(inplace=True)"
   ]
  },
  {
   "cell_type": "code",
   "execution_count": null,
   "id": "4773f78d",
   "metadata": {},
   "outputs": [],
   "source": [
    "df_cities=df_cities.merge(df_distance,on='code_commune_INSEE',how='left')"
   ]
  },
  {
   "cell_type": "code",
   "execution_count": null,
   "id": "064aa07d",
   "metadata": {},
   "outputs": [],
   "source": [
    "df_cities=df_cities.merge(df_distance2,on='code_commune_INSEE',how='left')\n",
    "df_cities"
   ]
  },
  {
   "cell_type": "markdown",
   "id": "cad83197",
   "metadata": {},
   "source": [
    "### Add of other data (population, price per sqmeter, availability of public subsidies, biggest sectors in the city, index of quality of life)"
   ]
  },
  {
   "cell_type": "code",
   "execution_count": null,
   "id": "6e6cd740",
   "metadata": {},
   "outputs": [],
   "source": [
    "pop=pd.read_excel('../raw_data/pop.xls')\n",
    "pop.rename(columns={'CODGEO':'code_commune_INSEE'},inplace=True)\n",
    "pop=pop[['code_commune_INSEE','Population']]"
   ]
  },
  {
   "cell_type": "code",
   "execution_count": null,
   "id": "be006e80",
   "metadata": {},
   "outputs": [],
   "source": [
    "for x in range(len(df_cities['code_commune_INSEE'])):\n",
    "    if len(df_cities['code_commune_INSEE'][x])<5:\n",
    "        y='0'+str(df_cities['code_commune_INSEE'][x])\n",
    "        df_cities['code_commune_INSEE'].iloc[x]=y"
   ]
  },
  {
   "cell_type": "code",
   "execution_count": null,
   "id": "2c0b9acc",
   "metadata": {},
   "outputs": [],
   "source": [
    "df_cities=df_cities.merge(pop,on='code_commune_INSEE',how='left')"
   ]
  },
  {
   "cell_type": "code",
   "execution_count": null,
   "id": "019e435d",
   "metadata": {},
   "outputs": [],
   "source": [
    "#We filter the cities keeping the ones only below 30000 inhabitants ! Core of our topic !\n",
    "df_cities=df_cities[df_cities['Population']<30000]\n",
    "df_cities"
   ]
  },
  {
   "cell_type": "code",
   "execution_count": null,
   "id": "bb3bc63e",
   "metadata": {},
   "outputs": [],
   "source": [
    "subsidies=pd.read_csv('../raw_data/aides+prixm2.csv')"
   ]
  },
  {
   "cell_type": "code",
   "execution_count": null,
   "id": "a42b5563",
   "metadata": {},
   "outputs": [],
   "source": [
    "for x in range(len(subsidies['code_commune_INSEE'])):\n",
    "    if len(subsidies['code_commune_INSEE'][x])<5:\n",
    "        y='0'+str(subsidies['code_commune_INSEE'][x])\n",
    "        subsidies['code_commune_INSEE'].iloc[x]=y"
   ]
  },
  {
   "cell_type": "code",
   "execution_count": null,
   "id": "0271a2fe",
   "metadata": {},
   "outputs": [],
   "source": [
    "df_cities=df_cities.merge(subsidies,on='code_commune_INSEE',how='left')\n",
    "df_cities"
   ]
  },
  {
   "cell_type": "code",
   "execution_count": null,
   "id": "f342ef44",
   "metadata": {},
   "outputs": [],
   "source": [
    "sectors=pd.read_csv('../raw_data/sectors.csv')\n",
    "df_cities=df_cities.merge(sectors,on='code_commune_INSEE',how='left')\n",
    "df_cities"
   ]
  },
  {
   "cell_type": "code",
   "execution_count": null,
   "id": "a76c9666",
   "metadata": {},
   "outputs": [],
   "source": [
    "df_cities.drop(columns=['index','Unnamed: 0_x','Unnamed: 0_y'],inplace=True)"
   ]
  },
  {
   "cell_type": "code",
   "execution_count": null,
   "id": "435c798e",
   "metadata": {},
   "outputs": [],
   "source": [
    "df_cities['statut'] = df_cities['statut'].fillna(0)"
   ]
  },
  {
   "cell_type": "code",
   "execution_count": null,
   "id": "b9a3852a",
   "metadata": {},
   "outputs": [],
   "source": [
    "#Here we keep only cities from \"Metropole (Main land)\", not enough data about other territories\n",
    "df_cities=df_cities.loc[df_cities['nom_region'].isin(['Auvergne-Rhône-Alpes', 'Hauts-de-France',\"Provence-Alpes-Côte d'Azur\", 'Grand Est', 'Occitanie','Normandie', 'Nouvelle-Aquitaine', 'Centre-Val de Loire','Bourgogne-Franche-Comté', 'Bretagne', 'Corse', 'Pays de la Loire','Île-de-France'])]\n"
   ]
  },
  {
   "cell_type": "code",
   "execution_count": null,
   "id": "00ea451f",
   "metadata": {},
   "outputs": [],
   "source": [
    "df_cities.drop_duplicates(inplace=True)"
   ]
  },
  {
   "cell_type": "code",
   "execution_count": null,
   "id": "7ac4e857",
   "metadata": {},
   "outputs": [],
   "source": [
    "df_cities = df_cities.astype({\"code_postal\": str}, errors='raise') "
   ]
  },
  {
   "cell_type": "code",
   "execution_count": null,
   "id": "f6fe1691",
   "metadata": {},
   "outputs": [],
   "source": [
    "df_cities = df_cities.astype({\"coordinates\": str}, errors='raise') "
   ]
  },
  {
   "cell_type": "code",
   "execution_count": null,
   "id": "0a06bbc8",
   "metadata": {},
   "outputs": [],
   "source": [
    "qlty=pd.read_csv('../raw_data/quality_doc4.csv')"
   ]
  },
  {
   "cell_type": "code",
   "execution_count": null,
   "id": "20a99ea7",
   "metadata": {},
   "outputs": [],
   "source": [
    "df_updated=df_cities.merge(qlty,how='left',on='code_commune_INSEE')\n",
    "df_updated.drop(columns=['Unnamed: 0'],inplace=True)"
   ]
  },
  {
   "cell_type": "code",
   "execution_count": null,
   "id": "ad610170",
   "metadata": {},
   "outputs": [],
   "source": [
    "df_updated.rename(columns={'global':'lifelevelscore'},inplace=True)\n",
    "df_updated"
   ]
  },
  {
   "cell_type": "markdown",
   "id": "64daf3db",
   "metadata": {},
   "source": [
    "### We add the closeness to sea and mountain for each city (according to their home department)"
   ]
  },
  {
   "cell_type": "code",
   "execution_count": null,
   "id": "ae740b59",
   "metadata": {},
   "outputs": [],
   "source": [
    "df_updated['mountain_city']=0\n",
    "for x in range(len(df_updated['code_commune_INSEE'])):\n",
    "    if df_updated['code_departement'][x] in ['73','74','38','5','4','6','39','66','9','65','64','31','26','11','2A','2B']:\n",
    "        df_updated['mountain_city'][x]=1\n",
    "    else:\n",
    "        df_updated['mountain_city'][x]=0"
   ]
  },
  {
   "cell_type": "code",
   "execution_count": null,
   "id": "e0de5446",
   "metadata": {},
   "outputs": [],
   "source": [
    "df_updated['sea_city']=0\n",
    "for x in range(len(df_updated['code_commune_INSEE'])):\n",
    "    if df_updated['code_departement'][x] in ['2A','2B','6','83','13','30','34','11','66','64','40','33','17','85','44','56','29','22','35','50','14','76','80','62','59']:\n",
    "        df_updated['sea_city'][x]=1\n",
    "    else:\n",
    "        df_updated['sea_city'][x]=0"
   ]
  },
  {
   "cell_type": "markdown",
   "id": "66f44ff1",
   "metadata": {},
   "source": [
    "### Elections Results for 2nd round 2022"
   ]
  },
  {
   "cell_type": "code",
   "execution_count": null,
   "id": "7a86e69d",
   "metadata": {},
   "outputs": [],
   "source": [
    "elections=pd.read_excel('../raw_data/resultats-par-niveau-subcom-t2-france-entiere.xlsx')"
   ]
  },
  {
   "cell_type": "code",
   "execution_count": null,
   "id": "07371fd3",
   "metadata": {},
   "outputs": [],
   "source": [
    "elections['winner']=0\n",
    "elections['winner_percentage']=0\n",
    "for x in range(len(elections['Libellé de la commune'])):\n",
    "    if elections['% Voix/Exp'][x]>elections['Unnamed: 32'][x]:\n",
    "        elections['winner'][x]=elections['Nom'][x]+ ' ' +elections['Prénom'][x]\n",
    "        elections['winner_percentage'][x]=elections['% Voix/Exp'][x]\n",
    "    if elections['% Voix/Exp'][x]<elections['Unnamed: 32'][x]:\n",
    "        elections['winner'][x]=elections['Unnamed: 28'][x] + ' ' +elections['Unnamed: 29'][x]\n",
    "        elections['winner_percentage'][x]=elections['Unnamed: 32'][x]"
   ]
  },
  {
   "cell_type": "code",
   "execution_count": null,
   "id": "7c6e1b06",
   "metadata": {},
   "outputs": [],
   "source": [
    "elections_short=elections[['Libellé de la commune','winner','winner_percentage']]\n",
    "elections_short.rename(columns={'Libellé de la commune':'nom_commune_complet'},inplace=True)"
   ]
  },
  {
   "cell_type": "code",
   "execution_count": null,
   "id": "53dcf775",
   "metadata": {},
   "outputs": [],
   "source": [
    "elections_short.drop_duplicates(subset='nom_commune_complet',keep='first',inplace=True)"
   ]
  },
  {
   "cell_type": "code",
   "execution_count": null,
   "id": "7afa8e22",
   "metadata": {},
   "outputs": [],
   "source": [
    "df_updated=df_updated.merge(elections_short,on='nom_commune_complet',how='left')\n",
    "df_updated"
   ]
  },
  {
   "cell_type": "markdown",
   "id": "b16d7186",
   "metadata": {},
   "source": [
    "### Check for NaN values and solution"
   ]
  },
  {
   "cell_type": "code",
   "execution_count": null,
   "id": "f41ca3c9",
   "metadata": {},
   "outputs": [],
   "source": [
    "import numpy as np\n",
    "df_updated[['PrixMoyen_M2','lifelevelscore','s1','s2','s3','s4','s5','winner','winner_percentage']]=df_updated[['PrixMoyen_M2','lifelevelscore','s1','s2','s3','s4','s5','winner','winner_percentage']].replace(0, np.nan)"
   ]
  },
  {
   "cell_type": "code",
   "execution_count": null,
   "id": "db8c73d2",
   "metadata": {},
   "outputs": [],
   "source": [
    "nan=df_updated[df_updated[['PrixMoyen_M2','lifelevelscore','winner','s1','s2','s3','s4','s5']].values==0]\n",
    "nan.drop_duplicates(inplace=True)\n",
    "nan"
   ]
  },
  {
   "cell_type": "code",
   "execution_count": null,
   "id": "414cd5c1",
   "metadata": {},
   "outputs": [],
   "source": [
    "nan2=df_updated[df_updated[['Population','PrixMoyen_M2','lifelevelscore','s1','s2','s3','s4','s5','winner']].isna().values]\n",
    "nan2.drop_duplicates(inplace=True)\n",
    "nan2"
   ]
  },
  {
   "cell_type": "code",
   "execution_count": null,
   "id": "971a9cfb",
   "metadata": {},
   "outputs": [],
   "source": [
    "#We add data from 2017 for missing sqmeters prices\n",
    "M2_2017=pd.read_csv('../raw_data/prixm2-communes-2017.csv')\n",
    "M2_2017.rename(columns={'INSEE_COM':'code_commune_INSEE'},inplace=True)\n",
    "M2_2017=M2_2017[['code_commune_INSEE','Prixm2']]"
   ]
  },
  {
   "cell_type": "code",
   "execution_count": null,
   "id": "2c7581ae",
   "metadata": {},
   "outputs": [],
   "source": [
    "df_updated=df_updated.merge(M2_2017,how='left',on='code_commune_INSEE')\n",
    "df_updated.PrixMoyen_M2.fillna(df_updated.Prixm2, inplace=True)\n",
    "df_updated"
   ]
  },
  {
   "cell_type": "code",
   "execution_count": null,
   "id": "d4c3592c",
   "metadata": {},
   "outputs": [],
   "source": [
    "nan3=df_updated[df_updated['PrixMoyen_M2'].isna().values]\n",
    "nan3.drop_duplicates(inplace=True)\n",
    "nan3"
   ]
  },
  {
   "cell_type": "code",
   "execution_count": null,
   "id": "e21b7c2f",
   "metadata": {},
   "outputs": [],
   "source": [
    "#We replace values still missing by the mean in the home department\n",
    "dep=df_updated.groupby('code_departement')['PrixMoyen_M2'].mean().to_frame()\n",
    "dep.rename(columns={'PrixMoyen_M2':'PrixMoyen_M2_dep'},inplace=True)"
   ]
  },
  {
   "cell_type": "code",
   "execution_count": null,
   "id": "2e480b52",
   "metadata": {},
   "outputs": [],
   "source": [
    "df_updated=df_updated.merge(dep,how='left',on='code_departement')\n",
    "df_updated.PrixMoyen_M2.fillna(df_updated.PrixMoyen_M2_dep, inplace=True)\n",
    "df_updated"
   ]
  },
  {
   "cell_type": "code",
   "execution_count": null,
   "id": "b2d63f0a",
   "metadata": {},
   "outputs": [],
   "source": [
    "nan4=df_updated[df_updated[['Population','PrixMoyen_M2','lifelevelscore','s1','s2','s3','s4','s5','winner']].isna().values]\n",
    "nan4.drop_duplicates(inplace=True)\n",
    "nan4"
   ]
  },
  {
   "cell_type": "code",
   "execution_count": null,
   "id": "78efe87a",
   "metadata": {},
   "outputs": [],
   "source": [
    "df_updated.drop(columns=['Prixm2','PrixMoyen_M2_dep'],inplace=True)"
   ]
  },
  {
   "cell_type": "code",
   "execution_count": null,
   "id": "505e686d",
   "metadata": {},
   "outputs": [],
   "source": [
    "df_updated['code_commune_INSEE'].duplicated().any()"
   ]
  },
  {
   "cell_type": "code",
   "execution_count": null,
   "id": "0710c59b",
   "metadata": {},
   "outputs": [],
   "source": [
    "df_updated"
   ]
  },
  {
   "cell_type": "markdown",
   "id": "82d71337",
   "metadata": {},
   "source": [
    "### Finally add the cluster number corresponding to our KMeans Clustering Analysis"
   ]
  },
  {
   "cell_type": "code",
   "execution_count": null,
   "id": "a9702f34",
   "metadata": {},
   "outputs": [],
   "source": [
    "df_cluster=pd.read_csv('../raw_data/clusters.csv')"
   ]
  },
  {
   "cell_type": "code",
   "execution_count": null,
   "id": "06ec0d20",
   "metadata": {},
   "outputs": [],
   "source": [
    "df_updated=df_updated.merge(df_cluster, on='code_commune_INSEE',how='left')"
   ]
  },
  {
   "cell_type": "code",
   "execution_count": null,
   "id": "045a5ec3",
   "metadata": {},
   "outputs": [],
   "source": [
    "df_updated.drop(columns=['Unnamed: 0'],inplace=True)"
   ]
  },
  {
   "cell_type": "code",
   "execution_count": null,
   "id": "d486e9b4",
   "metadata": {},
   "outputs": [],
   "source": [
    "df_updated['cluster']=df_updated['cluster'].astype(dtype='float64')\n",
    "df_updated"
   ]
  },
  {
   "cell_type": "markdown",
   "id": "7d962dd8",
   "metadata": {},
   "source": [
    "### Export and upload to BigQuery"
   ]
  },
  {
   "cell_type": "code",
   "execution_count": null,
   "id": "e8e7d51e",
   "metadata": {},
   "outputs": [],
   "source": [
    "import json\n",
    "import os\n",
    "from google.oauth2 import service_account\n",
    "from google.cloud import bigquery\n",
    "pathjson=\"../../hiddenpath.json\"\n",
    "CREDENTIAL_KEY = os.getenv('CREDENTIAL_KEY')\n",
    "credentials = service_account.Credentials.from_service_account_file(pathjson)\n",
    "client = bigquery.Client(credentials=credentials, project=credentials.project_id,)"
   ]
  },
  {
   "cell_type": "code",
   "execution_count": null,
   "id": "4c502a05",
   "metadata": {},
   "outputs": [],
   "source": [
    "import pandas_gbq\n",
    "pandas_gbq.to_gbq(df_updated, 'hiddeninfo', project_id='hiddeninfo',credentials=credentials,if_exists='replace')"
   ]
  }
 ],
 "metadata": {
  "kernelspec": {
   "display_name": "Python 3 (ipykernel)",
   "language": "python",
   "name": "python3"
  },
  "language_info": {
   "codemirror_mode": {
    "name": "ipython",
    "version": 3
   },
   "file_extension": ".py",
   "mimetype": "text/x-python",
   "name": "python",
   "nbconvert_exporter": "python",
   "pygments_lexer": "ipython3",
   "version": "3.8.12"
  },
  "toc": {
   "base_numbering": 1,
   "nav_menu": {},
   "number_sections": true,
   "sideBar": true,
   "skip_h1_title": false,
   "title_cell": "Table of Contents",
   "title_sidebar": "Contents",
   "toc_cell": false,
   "toc_position": {},
   "toc_section_display": true,
   "toc_window_display": false
  }
 },
 "nbformat": 4,
 "nbformat_minor": 5
}
